{
 "cells": [
  {
   "cell_type": "markdown",
   "id": "0bb860bb",
   "metadata": {},
   "source": [
    "### IMPORTS"
   ]
  },
  {
   "cell_type": "code",
   "execution_count": 1,
   "id": "87a97e29",
   "metadata": {},
   "outputs": [],
   "source": [
    "import numpy as np\n",
    "import pandas as pd\n",
    "import scipy \n",
    "import sklearn\n",
    "import math\n",
    "from collections import Counter\n",
    "from sklearn.metrics import multilabel_confusion_matrix\n",
    "from scipy import spatial"
   ]
  },
  {
   "cell_type": "markdown",
   "id": "c2d74226",
   "metadata": {},
   "source": [
    "### DATASET LOADING"
   ]
  },
  {
   "cell_type": "code",
   "execution_count": 2,
   "id": "c5e4a1a7",
   "metadata": {},
   "outputs": [],
   "source": [
    "data = pd.read_csv(r'C:\\Users\\vardh\\OneDrive\\Desktop\\data.csv')\n",
    "labels = pd.read_csv(r'C:\\Users\\vardh\\OneDrive\\Desktop\\label.csv', names=['label'], header=None)"
   ]
  },
  {
   "cell_type": "markdown",
   "id": "2315a831",
   "metadata": {},
   "source": [
    "### DATASET SPLITTING"
   ]
  },
  {
   "cell_type": "code",
   "execution_count": 3,
   "id": "711a8b16",
   "metadata": {},
   "outputs": [],
   "source": [
    "from sklearn.model_selection import train_test_split\n",
    "train_data, test_data = train_test_split( data, test_size=0.08, random_state=42)\n",
    "train_labels, test_labels = train_test_split( labels, test_size=0.08, random_state=42)"
   ]
  },
  {
   "cell_type": "markdown",
   "id": "d30ff7b6",
   "metadata": {},
   "source": [
    "### MODEL DEFINITION"
   ]
  },
  {
   "cell_type": "code",
   "execution_count": 4,
   "id": "73e19470",
   "metadata": {},
   "outputs": [],
   "source": [
    "class KMeans:\n",
    "    \n",
    "    # Function to calculate Sum of Squared Errors\n",
    "    def SSE_Calculation(self, V, C, data):\n",
    "        SSE = 0\n",
    "        for cluster in C:\n",
    "            sse_cluster = 0\n",
    "            for j in C[cluster]:\n",
    "                dp = list(data.iloc[int(j)])\n",
    "                for a,b in zip(V[cluster],dp):\n",
    "                    sse_cluster += math.pow(a-b,2)\n",
    "            SSE+=sse_cluster\n",
    "        return SSE\n",
    "    \n",
    "    # Initializing the centroids\n",
    "    def Initialize_Centroids(self,data,K):\n",
    "        l = data.shape[0]\n",
    "        centroid_value_dict={}\n",
    "        for i in range(K):\n",
    "            rnd = np.random.randint(0, l-1)\n",
    "            centroid_value_dict[i] = data.iloc[rnd]\n",
    "        return centroid_value_dict\n",
    "    \n",
    "    # Calculating the Jaccard Similarity based on the centroid data and the data points\n",
    "    def jaccard_similarity(self,centroid,data_point):\n",
    "        intersection = len(list(set(centroid).intersection(data_point)))\n",
    "        union = (len(set(centroid)) + len(set(data_point))) - intersection\n",
    "        return float(intersection) / union\n",
    "\n",
    "    # Model Training\n",
    "    def train_model(self,data,K,max_iter=20,similarity_measure=1,tol=10):\n",
    "        centroid_value_dict = self.Initialize_Centroids(data,K)\n",
    "        new_centroid_value_dict = {}\n",
    "        count = 0\n",
    "        centroid_dict = {}\n",
    "        convergence = False\n",
    "        while((count<max_iter) and not convergence):\n",
    "            \n",
    "            for i in list(centroid_value_dict.keys()):\n",
    "                centroid_dict[i]=[]\n",
    "            for i in range(data.shape[0]):\n",
    "                x = data.iloc[i]\n",
    "                if similarity_measure==1 :\n",
    "                    distance_measure = [np.linalg.norm(x-centroid_value_dict[j])  for j in centroid_value_dict]\n",
    "                    idx = np.argmin(distance_measure)\n",
    "                    centroid_dict[idx].append(i)\n",
    "                elif similarity_measure==2 :\n",
    "                    distance_measure = [self.jaccard_similarity(list(x),centroid_value_dict[j]) for j in centroid_value_dict]\n",
    "                    idx = np.argmax(distance_measure)\n",
    "                    centroid_dict[idx].append(i)\n",
    "                elif similarity_measure==3 :\n",
    "                    distance_measure = [1-scipy.spatial.distance.cosine(x,list(centroid_value_dict[j]))  for j in centroid_value_dict]\n",
    "                    idx = np.argmax(distance_measure)\n",
    "                    centroid_dict[idx].append(i)\n",
    "                \n",
    "                prev_centroids=dict(centroid_value_dict)\n",
    "                \n",
    "            \n",
    "            for i in centroid_dict:\n",
    "                if len(centroid_dict[i]):\n",
    "                    dps_centroid = centroid_dict[i]\n",
    "                    centroid_value_dict[i] = np.average(data.iloc[dps_centroid],axis=0)\n",
    "            \n",
    "            \n",
    "            current_tol=-1\n",
    "            for i in centroid_value_dict:\n",
    "                prev_centroid_point = prev_centroids[i]\n",
    "                new_centroid_point = centroid_value_dict[i]\n",
    "                change = np.sum(np.absolute(new_centroid_point-prev_centroid_point))\n",
    "                current_tol = max(change, current_tol)\n",
    "                \n",
    "            print(\"Iteration : \", count,\", Tolerance : \", current_tol)\n",
    "            \n",
    "            count+=1\n",
    "            if (current_tol<10):\n",
    "                convergence = True\n",
    "                break\n",
    "        return centroid_value_dict,centroid_dict\n",
    "    "
   ]
  },
  {
   "cell_type": "markdown",
   "id": "282b02dc",
   "metadata": {},
   "source": [
    "### PREDICTING LABELS FOR THE CLUSTER"
   ]
  },
  {
   "cell_type": "code",
   "execution_count": 5,
   "id": "d97ed56a",
   "metadata": {},
   "outputs": [],
   "source": [
    "def predict_cluster_labels(C, S, labels):\n",
    "    cluster_labels = np.zeros(10,dtype=int)\n",
    "    for c in C:\n",
    "        labels_of_points = []\n",
    "        for point in S[c]:\n",
    "            labels_of_points.extend(labels.iloc[point])\n",
    "        counter = Counter(labels_of_points)\n",
    "        try:\n",
    "            cluster_labels[c] = max(counter, key=counter.get)\n",
    "        except:\n",
    "            cluster_labels[c] = np.random.randint(0,9)\n",
    "    return cluster_labels"
   ]
  },
  {
   "cell_type": "code",
   "execution_count": 6,
   "id": "a41d6af4",
   "metadata": {},
   "outputs": [],
   "source": [
    "def jaccard_similarity(list1, list2):\n",
    "        intersection = len(list(set(list1).intersection(list2)))\n",
    "        union = (len(set(list1)) + len(set(list2))) - intersection\n",
    "        return float(intersection) / union"
   ]
  },
  {
   "cell_type": "markdown",
   "id": "86d23ab2",
   "metadata": {},
   "source": [
    "### MEASURING THE ACCURACY"
   ]
  },
  {
   "cell_type": "code",
   "execution_count": 7,
   "id": "95817a1c",
   "metadata": {},
   "outputs": [],
   "source": [
    "def accuracy(centroids, centroid_Labels, test_data, true_labels, similarity_measure=1):\n",
    "    y_true = list(true_labels['label']);\n",
    "    y_pred = []\n",
    "    for index in range(test_data.shape[0]):\n",
    "        featureset = test_data.iloc[index]\n",
    "        if similarity_measure==1:\n",
    "            distances = [np.linalg.norm(featureset - centroids[centroid]) for centroid in centroids]\n",
    "            classification = distances.index(min(distances))\n",
    "            y_pred.append(centroid_Labels[classification])\n",
    "        elif similarity_measure==2:\n",
    "            similarity = [jaccard_similarity(featureset, centroids[centroid]) for centroid in centroids]\n",
    "            classification = similarity.index(max(similarity))\n",
    "            y_pred.append(centroid_Labels[classification]) \n",
    "        elif similarity_measure==3:\n",
    "            similarity = [1 - spatial.distance.cosine(featureset, centroids[centroid]) for centroid in centroids]\n",
    "            classification = similarity.index(max(similarity))\n",
    "            y_pred.append(centroid_Labels[classification])\n",
    "    denominator = test_data.shape[0]\n",
    "    correctly_classified = 0\n",
    "    for i in range(0,len(y_pred)):\n",
    "        if y_true[i] == y_pred[i]:\n",
    "            correctly_classified += 1\n",
    "    accuracy = correctly_classified/denominator\n",
    "    return accuracy"
   ]
  },
  {
   "cell_type": "markdown",
   "id": "07b19843",
   "metadata": {},
   "source": [
    "### LISTS FOR STORING THE RESULTS"
   ]
  },
  {
   "cell_type": "code",
   "execution_count": 8,
   "id": "eaf96969",
   "metadata": {},
   "outputs": [],
   "source": [
    "accuracy_list = []\n",
    "sse_list = []"
   ]
  },
  {
   "cell_type": "markdown",
   "id": "dd8eaeea",
   "metadata": {},
   "source": [
    "### EUCLEDIAN SIMILARITY METRIC"
   ]
  },
  {
   "cell_type": "code",
   "execution_count": 9,
   "id": "c0365d18",
   "metadata": {},
   "outputs": [
    {
     "name": "stdout",
     "output_type": "stream",
     "text": [
      "Iteration :  0 , Tolerance :  26874.17551622419\n",
      "Iteration :  1 , Tolerance :  4229.5185557488385\n",
      "Iteration :  2 , Tolerance :  3522.4969908300363\n",
      "Iteration :  3 , Tolerance :  1954.7047818865285\n",
      "Iteration :  4 , Tolerance :  1908.7155911980597\n",
      "Iteration :  5 , Tolerance :  2352.3895223604077\n",
      "Iteration :  6 , Tolerance :  2334.243627939437\n",
      "Iteration :  7 , Tolerance :  1795.3535492638734\n",
      "Iteration :  8 , Tolerance :  1202.331250984188\n",
      "Iteration :  9 , Tolerance :  1052.2303839435504\n",
      "Iteration :  10 , Tolerance :  1135.1265257968482\n",
      "Iteration :  11 , Tolerance :  1151.505568554501\n",
      "Iteration :  12 , Tolerance :  1186.54753491299\n",
      "Iteration :  13 , Tolerance :  1088.2466458708573\n",
      "Iteration :  14 , Tolerance :  871.8312626230668\n",
      "Iteration :  15 , Tolerance :  705.7547546869162\n",
      "Iteration :  16 , Tolerance :  619.8129609960465\n",
      "Iteration :  17 , Tolerance :  643.804942713512\n",
      "Iteration :  18 , Tolerance :  681.1133060558349\n",
      "Iteration :  19 , Tolerance :  686.48835107334\n",
      "Iteration :  20 , Tolerance :  753.336211768142\n",
      "Iteration :  21 , Tolerance :  824.2432854188605\n",
      "Iteration :  22 , Tolerance :  896.7985447600554\n",
      "Iteration :  23 , Tolerance :  993.9737501211905\n",
      "Iteration :  24 , Tolerance :  857.974744073276\n",
      "Iteration :  25 , Tolerance :  844.8540918935644\n",
      "Iteration :  26 , Tolerance :  816.1646871367298\n",
      "Iteration :  27 , Tolerance :  594.9937516869097\n",
      "Iteration :  28 , Tolerance :  448.87126106492326\n",
      "Iteration :  29 , Tolerance :  342.823003829562\n",
      "Iteration :  30 , Tolerance :  304.12623766906427\n",
      "Iteration :  31 , Tolerance :  129.154546195561\n",
      "Iteration :  32 , Tolerance :  126.71699031323556\n",
      "Iteration :  33 , Tolerance :  155.4033110666948\n",
      "Iteration :  34 , Tolerance :  113.43872059049681\n",
      "Iteration :  35 , Tolerance :  205.67118649953125\n",
      "Iteration :  36 , Tolerance :  232.13481110919446\n",
      "Iteration :  37 , Tolerance :  174.1643303523019\n",
      "Iteration :  38 , Tolerance :  158.92534344558254\n",
      "Iteration :  39 , Tolerance :  120.11932549056284\n",
      "Iteration :  40 , Tolerance :  134.7558386411888\n",
      "Iteration :  41 , Tolerance :  110.27286843591176\n",
      "Iteration :  42 , Tolerance :  149.18307501021175\n",
      "Iteration :  43 , Tolerance :  138.39138394435142\n",
      "Iteration :  44 , Tolerance :  127.11313525030135\n",
      "Iteration :  45 , Tolerance :  98.01279691375032\n",
      "Iteration :  46 , Tolerance :  116.70736842105241\n",
      "Iteration :  47 , Tolerance :  111.26820741070446\n",
      "Iteration :  48 , Tolerance :  197.33221016002148\n",
      "Iteration :  49 , Tolerance :  121.90937829293986\n",
      "Iteration :  50 , Tolerance :  74.1882954573301\n",
      "Iteration :  51 , Tolerance :  55.767313220801505\n",
      "Iteration :  52 , Tolerance :  51.667774190655535\n",
      "Iteration :  53 , Tolerance :  57.30132026873681\n",
      "Iteration :  54 , Tolerance :  47.31109277138404\n",
      "Iteration :  55 , Tolerance :  76.78355610110935\n",
      "Iteration :  56 , Tolerance :  68.8557692307692\n",
      "Iteration :  57 , Tolerance :  29.87661695383921\n",
      "Iteration :  58 , Tolerance :  19.04233533153667\n",
      "Iteration :  59 , Tolerance :  17.54988701547025\n",
      "Iteration :  60 , Tolerance :  32.18988914512565\n",
      "Iteration :  61 , Tolerance :  20.32032233533956\n",
      "Iteration :  62 , Tolerance :  0.0\n"
     ]
    }
   ],
   "source": [
    "# Model Training\n",
    "model_Eucledian = KMeans()\n",
    "centroids_Eucledian,clusters_Eucledian = model_Eucledian.train_model(data, 10, max_iter=100, similarity_measure=1)"
   ]
  },
  {
   "cell_type": "code",
   "execution_count": 10,
   "id": "eff9d3fb",
   "metadata": {},
   "outputs": [],
   "source": [
    "# SSE Calculation\n",
    "Euclidean_SSE = model_Eucledian.SSE_Calculation(centroids_Eucledian,clusters_Eucledian,data)"
   ]
  },
  {
   "cell_type": "code",
   "execution_count": 11,
   "id": "52b289e9",
   "metadata": {},
   "outputs": [
    {
     "name": "stdout",
     "output_type": "stream",
     "text": [
      "SSE with Euclidean Similarity: 25469352400.99587\n"
     ]
    }
   ],
   "source": [
    "print(\"SSE with Euclidean Similarity:\",Euclidean_SSE)\n",
    "sse_list.append(Euclidean_SSE)"
   ]
  },
  {
   "cell_type": "code",
   "execution_count": 12,
   "id": "9f25d574",
   "metadata": {},
   "outputs": [
    {
     "data": {
      "text/plain": [
       "array([2, 0, 3, 3, 7, 1, 0, 4, 8, 9])"
      ]
     },
     "execution_count": 12,
     "metadata": {},
     "output_type": "execute_result"
    }
   ],
   "source": [
    "# Cluster Labelling\n",
    "cluster_labels_Euclidean = predict_cluster_labels(centroids_Eucledian,clusters_Eucledian,labels)\n",
    "cluster_labels_Euclidean"
   ]
  },
  {
   "cell_type": "code",
   "execution_count": 13,
   "id": "9c95ceec",
   "metadata": {},
   "outputs": [],
   "source": [
    "# Accuracy Calculation\n",
    "Accuracy_Euclidean = accuracy(centroids_Eucledian, cluster_labels_Euclidean,test_data,test_labels)\n",
    "Accuracy_Euclidean\n",
    "accuracy_list.append(Accuracy_Euclidean)"
   ]
  },
  {
   "cell_type": "markdown",
   "id": "d139833c",
   "metadata": {},
   "source": [
    "### JACCARD SIMILARITY METRIC"
   ]
  },
  {
   "cell_type": "code",
   "execution_count": 14,
   "id": "ee9b21ef",
   "metadata": {},
   "outputs": [
    {
     "name": "stdout",
     "output_type": "stream",
     "text": [
      "Iteration :  0 , Tolerance :  32756.157148990984\n",
      "Iteration :  1 , Tolerance :  6837.526029130581\n",
      "Iteration :  2 , Tolerance :  1305.1116322763446\n",
      "Iteration :  3 , Tolerance :  1998.8942188414092\n",
      "Iteration :  4 , Tolerance :  1628.9928280211197\n",
      "Iteration :  5 , Tolerance :  934.1861491027151\n",
      "Iteration :  6 , Tolerance :  1286.3552990081616\n",
      "Iteration :  7 , Tolerance :  1617.9428767201043\n",
      "Iteration :  8 , Tolerance :  1567.682167315057\n",
      "Iteration :  9 , Tolerance :  1308.3374630613744\n",
      "Iteration :  10 , Tolerance :  568.8622842398963\n",
      "Iteration :  11 , Tolerance :  825.9260955306825\n",
      "Iteration :  12 , Tolerance :  449.0599433264121\n",
      "Iteration :  13 , Tolerance :  0.0\n"
     ]
    }
   ],
   "source": [
    "# Model Training\n",
    "model_Jaccard = KMeans()\n",
    "centroids_Jaccard,clusters_Jaccard = model_Jaccard.train_model(data,10, max_iter=100,similarity_measure=2)\n"
   ]
  },
  {
   "cell_type": "code",
   "execution_count": 15,
   "id": "db0f4a67",
   "metadata": {},
   "outputs": [],
   "source": [
    "# SSE Calculation\n",
    "Jaccard_SSE = model_Jaccard.SSE_Calculation(centroids_Jaccard,clusters_Jaccard,data)"
   ]
  },
  {
   "cell_type": "code",
   "execution_count": 16,
   "id": "5d5bb988",
   "metadata": {},
   "outputs": [
    {
     "name": "stdout",
     "output_type": "stream",
     "text": [
      "SSE with Jaccard Similarity: 34361687572.938736\n"
     ]
    }
   ],
   "source": [
    "print(\"SSE with Jaccard Similarity:\",Jaccard_SSE)\n",
    "sse_list.append(Jaccard_SSE)"
   ]
  },
  {
   "cell_type": "code",
   "execution_count": 17,
   "id": "8430079c",
   "metadata": {},
   "outputs": [
    {
     "data": {
      "text/plain": [
       "array([1, 4, 3, 3, 6, 2, 3, 4, 5, 7])"
      ]
     },
     "execution_count": 17,
     "metadata": {},
     "output_type": "execute_result"
    }
   ],
   "source": [
    "# Cluster Labelling\n",
    "cluster_labels_Jaccard = predict_cluster_labels(centroids_Jaccard,clusters_Jaccard,labels)\n",
    "cluster_labels_Jaccard"
   ]
  },
  {
   "cell_type": "code",
   "execution_count": 18,
   "id": "128ac9da",
   "metadata": {},
   "outputs": [],
   "source": [
    "# Accuracy Calculation\n",
    "Accuracy_Jaccard = accuracy(centroids_Jaccard, cluster_labels_Jaccard,test_data,test_labels)\n",
    "Accuracy_Jaccard\n",
    "accuracy_list.append(Accuracy_Jaccard)"
   ]
  },
  {
   "cell_type": "markdown",
   "id": "c2fe308e",
   "metadata": {},
   "source": [
    "### COSINE SIMILARITY METRIC"
   ]
  },
  {
   "cell_type": "code",
   "execution_count": 19,
   "id": "939f8ba6",
   "metadata": {},
   "outputs": [
    {
     "name": "stdout",
     "output_type": "stream",
     "text": [
      "Iteration :  0 , Tolerance :  27361.689489751418\n",
      "Iteration :  1 , Tolerance :  3867.947695343287\n",
      "Iteration :  2 , Tolerance :  3592.807171761271\n",
      "Iteration :  3 , Tolerance :  2312.498441004068\n",
      "Iteration :  4 , Tolerance :  1781.8341188931554\n",
      "Iteration :  5 , Tolerance :  1385.2884042338032\n",
      "Iteration :  6 , Tolerance :  1027.665685825305\n",
      "Iteration :  7 , Tolerance :  578.0276348606726\n",
      "Iteration :  8 , Tolerance :  461.3062373399252\n",
      "Iteration :  9 , Tolerance :  337.13491011859094\n",
      "Iteration :  10 , Tolerance :  260.6295264850447\n",
      "Iteration :  11 , Tolerance :  170.33585310871058\n",
      "Iteration :  12 , Tolerance :  135.14775608399685\n",
      "Iteration :  13 , Tolerance :  207.89399595697267\n",
      "Iteration :  14 , Tolerance :  212.87536830225753\n",
      "Iteration :  15 , Tolerance :  210.56170697431378\n",
      "Iteration :  16 , Tolerance :  193.4810136062061\n",
      "Iteration :  17 , Tolerance :  259.30790977760984\n",
      "Iteration :  18 , Tolerance :  236.9759609373682\n",
      "Iteration :  19 , Tolerance :  295.9293848810048\n",
      "Iteration :  20 , Tolerance :  289.8886775937525\n",
      "Iteration :  21 , Tolerance :  346.4515821363963\n",
      "Iteration :  22 , Tolerance :  361.7915408870989\n",
      "Iteration :  23 , Tolerance :  361.2568802744597\n",
      "Iteration :  24 , Tolerance :  501.115453979475\n",
      "Iteration :  25 , Tolerance :  665.3175924156119\n",
      "Iteration :  26 , Tolerance :  890.945635718363\n",
      "Iteration :  27 , Tolerance :  1226.1904382583464\n",
      "Iteration :  28 , Tolerance :  1780.0307225882552\n",
      "Iteration :  29 , Tolerance :  2484.7815736609746\n",
      "Iteration :  30 , Tolerance :  2362.2991781384835\n",
      "Iteration :  31 , Tolerance :  1111.244089507673\n",
      "Iteration :  32 , Tolerance :  834.4909353055828\n",
      "Iteration :  33 , Tolerance :  803.5078380023236\n",
      "Iteration :  34 , Tolerance :  578.6170641119097\n",
      "Iteration :  35 , Tolerance :  615.7953601051163\n",
      "Iteration :  36 , Tolerance :  599.9432174636706\n",
      "Iteration :  37 , Tolerance :  556.8553825809942\n",
      "Iteration :  38 , Tolerance :  563.7829396088351\n",
      "Iteration :  39 , Tolerance :  435.31902502890557\n",
      "Iteration :  40 , Tolerance :  382.0320439564081\n",
      "Iteration :  41 , Tolerance :  511.36442801653925\n",
      "Iteration :  42 , Tolerance :  659.4883179622309\n",
      "Iteration :  43 , Tolerance :  719.28308195167\n",
      "Iteration :  44 , Tolerance :  870.9570707380383\n",
      "Iteration :  45 , Tolerance :  892.3266031632984\n",
      "Iteration :  46 , Tolerance :  1115.280661227525\n",
      "Iteration :  47 , Tolerance :  1609.9966197103167\n",
      "Iteration :  48 , Tolerance :  1789.0986477115116\n",
      "Iteration :  49 , Tolerance :  1977.152413866209\n",
      "Iteration :  50 , Tolerance :  1492.8506856284735\n",
      "Iteration :  51 , Tolerance :  1168.2808363715324\n",
      "Iteration :  52 , Tolerance :  830.0290524949353\n",
      "Iteration :  53 , Tolerance :  505.6574500768048\n",
      "Iteration :  54 , Tolerance :  334.7824175824176\n",
      "Iteration :  55 , Tolerance :  294.7453595909043\n",
      "Iteration :  56 , Tolerance :  220.4761176338872\n",
      "Iteration :  57 , Tolerance :  248.83262033062738\n",
      "Iteration :  58 , Tolerance :  246.71967956475783\n",
      "Iteration :  59 , Tolerance :  201.12300013750092\n",
      "Iteration :  60 , Tolerance :  135.73917058186882\n",
      "Iteration :  61 , Tolerance :  149.86385987917393\n",
      "Iteration :  62 , Tolerance :  108.5364021618009\n",
      "Iteration :  63 , Tolerance :  107.90441902521826\n",
      "Iteration :  64 , Tolerance :  133.06221088314254\n",
      "Iteration :  65 , Tolerance :  124.7965605981648\n",
      "Iteration :  66 , Tolerance :  174.3458388807846\n",
      "Iteration :  67 , Tolerance :  120.65992217898824\n",
      "Iteration :  68 , Tolerance :  111.38906766782881\n",
      "Iteration :  69 , Tolerance :  95.65092622808055\n",
      "Iteration :  70 , Tolerance :  62.85102534897354\n",
      "Iteration :  71 , Tolerance :  65.50955412746447\n",
      "Iteration :  72 , Tolerance :  53.396348077700225\n",
      "Iteration :  73 , Tolerance :  80.19884827876996\n",
      "Iteration :  74 , Tolerance :  72.63292039801001\n",
      "Iteration :  75 , Tolerance :  130.30296741146338\n",
      "Iteration :  76 , Tolerance :  144.5124481647183\n",
      "Iteration :  77 , Tolerance :  83.9990243902439\n",
      "Iteration :  78 , Tolerance :  84.48585365853657\n",
      "Iteration :  79 , Tolerance :  79.87568712576436\n",
      "Iteration :  80 , Tolerance :  65.254453125\n",
      "Iteration :  81 , Tolerance :  100.64354655025137\n",
      "Iteration :  82 , Tolerance :  87.11755694911409\n",
      "Iteration :  83 , Tolerance :  99.58495520485809\n",
      "Iteration :  84 , Tolerance :  59.336253860074926\n",
      "Iteration :  85 , Tolerance :  50.68334937439836\n",
      "Iteration :  86 , Tolerance :  46.191530317613015\n",
      "Iteration :  87 , Tolerance :  36.00769693492262\n",
      "Iteration :  88 , Tolerance :  30.80576969867512\n",
      "Iteration :  89 , Tolerance :  0.0\n"
     ]
    }
   ],
   "source": [
    "# Model Training\n",
    "model_Cosine = KMeans()\n",
    "centroids_Cosine,clusters_Cosine = model_Cosine.train_model(data,10, max_iter = 100,similarity_measure=3)"
   ]
  },
  {
   "cell_type": "code",
   "execution_count": 20,
   "id": "abfaceda",
   "metadata": {},
   "outputs": [],
   "source": [
    "# SSE Calculation\n",
    "Cosine_SSE = model_Cosine.SSE_Calculation(centroids_Cosine,clusters_Cosine,data)\n",
    "sse_list.append(Cosine_SSE)"
   ]
  },
  {
   "cell_type": "code",
   "execution_count": 21,
   "id": "17dd735a",
   "metadata": {},
   "outputs": [
    {
     "data": {
      "text/plain": [
       "array([0, 3, 3, 7, 0, 8, 1, 5, 2, 9])"
      ]
     },
     "execution_count": 21,
     "metadata": {},
     "output_type": "execute_result"
    }
   ],
   "source": [
    "# Cluster Labelling\n",
    "cluster_labels_Cosine = predict_cluster_labels(centroids_Cosine,clusters_Cosine,labels)\n",
    "cluster_labels_Cosine"
   ]
  },
  {
   "cell_type": "code",
   "execution_count": 22,
   "id": "af3c4451",
   "metadata": {},
   "outputs": [],
   "source": [
    "# Accuracy Calculation\n",
    "Accuracy_Cosine = accuracy(centroids_Cosine, cluster_labels_Cosine,test_data,test_labels)\n",
    "Accuracy_Cosine\n",
    "accuracy_list.append(Accuracy_Cosine)"
   ]
  },
  {
   "cell_type": "markdown",
   "id": "ff48150e",
   "metadata": {},
   "source": [
    "### RESULTS"
   ]
  },
  {
   "cell_type": "code",
   "execution_count": 23,
   "id": "9112a4b1",
   "metadata": {},
   "outputs": [
    {
     "name": "stdout",
     "output_type": "stream",
     "text": [
      "SSE for the Euclidean Similarity is : 25469352400.99587\n",
      "SSE for the Jaccard Similarity is : 34361687572.938736\n",
      "SSE for the Cosine Similarity is : 25411880140.148922\n"
     ]
    }
   ],
   "source": [
    "print(\"SSE for the Euclidean Similarity is :\",Euclidean_SSE)\n",
    "print(\"SSE for the Jaccard Similarity is :\",Jaccard_SSE)\n",
    "print(\"SSE for the Cosine Similarity is :\",Cosine_SSE)"
   ]
  },
  {
   "cell_type": "code",
   "execution_count": 24,
   "id": "10a4f708",
   "metadata": {},
   "outputs": [
    {
     "name": "stdout",
     "output_type": "stream",
     "text": [
      "Accuracy for the Euclidean Similarity is : 0.07\n",
      "Accuracy for the Jaccard Similarity is : 0.1075\n",
      "Accuracy for the Cosine Similarity is  0.0875\n"
     ]
    }
   ],
   "source": [
    "print(\"Accuracy for the Euclidean Similarity is :\",Accuracy_Euclidean)\n",
    "print(\"Accuracy for the Jaccard Similarity is :\",Accuracy_Jaccard)\n",
    "print(\"Accuracy for the Cosine Similarity is \",Accuracy_Cosine)"
   ]
  },
  {
   "cell_type": "markdown",
   "id": "79706ceb",
   "metadata": {},
   "source": [
    "### GRAPH PLOTS"
   ]
  },
  {
   "cell_type": "code",
   "execution_count": 25,
   "id": "eecd4659",
   "metadata": {},
   "outputs": [
    {
     "data": {
      "text/plain": [
       "Text(0, 0.5, 'Accuracy')"
      ]
     },
     "execution_count": 25,
     "metadata": {},
     "output_type": "execute_result"
    },
    {
     "data": {
      "image/png": "[encoded data removed]",
      "text/plain": [
       "<Figure size 720x432 with 1 Axes>"
      ]
     },
     "metadata": {
      "needs_background": "light"
     },
     "output_type": "display_data"
    }
   ],
   "source": [
    "import pandas as pd\n",
    "from matplotlib import pyplot as plt\n",
    "\n",
    "plotdata = pd.DataFrame({\n",
    "\n",
    "    \"Euclidean\":[accuracy_list[0]],\n",
    "\n",
    "    \"Jaccard\":[accuracy_list[1]],\n",
    "\n",
    "    \"Cosine\":[accuracy_list[2]]},\n",
    "\n",
    "    )\n",
    "\n",
    "plotdata.plot(kind=\"bar\",figsize=(10, 6))\n",
    "\n",
    "plt.title(\"Similarity Metrics Results for K means\")\n",
    "\n",
    "plt.xlabel(\"Similarity\")\n",
    "\n",
    "plt.ylabel(\"Accuracy\")"
   ]
  },
  {
   "cell_type": "code",
   "execution_count": 26,
   "id": "7d34c9bf",
   "metadata": {},
   "outputs": [
    {
     "data": {
      "text/plain": [
       "Text(0, 0.5, 'SSE')"
      ]
     },
     "execution_count": 26,
     "metadata": {},
     "output_type": "execute_result"
    },
    {
     "data": {
      "image/png": "[encoded data removed]",
      "text/plain": [
       "<Figure size 720x432 with 1 Axes>"
      ]
     },
     "metadata": {
      "needs_background": "light"
     },
     "output_type": "display_data"
    }
   ],
   "source": [
    "import pandas as pd\n",
    "\n",
    "plotdata = pd.DataFrame({\n",
    "\n",
    "    \"Euclidean\":[sse_list[0]],\n",
    "\n",
    "    \"Jaccard\":[sse_list[1]],\n",
    "\n",
    "    \"Cosine\":[sse_list[2]]},\n",
    "\n",
    "    )\n",
    "\n",
    "plotdata.plot(kind=\"bar\",figsize=(10, 6))\n",
    "\n",
    "plt.title(\"Similarity Metrics Results for K means\")\n",
    "\n",
    "plt.xlabel(\"Similarity\")\n",
    "\n",
    "plt.ylabel(\"SSE\")"
   ]
  },
  {
   "cell_type": "code",
   "execution_count": null,
   "id": "557d483a",
   "metadata": {},
   "outputs": [],
   "source": []
  }
 ],
 "metadata": {
  "kernelspec": {
   "display_name": "Python 3 (ipykernel)",
   "language": "python",
   "name": "python3"
  },
  "language_info": {
   "codemirror_mode": {
    "name": "ipython",
    "version": 3
   },
   "file_extension": ".py",
   "mimetype": "text/x-python",
   "name": "python",
   "nbconvert_exporter": "python",
   "pygments_lexer": "ipython3",
   "version": "3.9.12"
  }
 },
 "nbformat": 4,
 "nbformat_minor": 5
}
